{
 "cells": [
  {
   "cell_type": "markdown",
   "id": "9a016bb2-1996-4fd6-9c7d-3915ce739034",
   "metadata": {},
   "source": [
    "# Loops"
   ]
  },
  {
   "cell_type": "markdown",
   "id": "aef316f0-b789-479b-9bfc-c7e03d2104ee",
   "metadata": {},
   "source": [
    "#### 1. Print numbers from 1 to 5 using a while loop."
   ]
  },
  {
   "cell_type": "code",
   "execution_count": 5,
   "id": "288c3771-6b0d-4954-b1f3-ec40e65b3662",
   "metadata": {},
   "outputs": [
    {
     "name": "stdout",
     "output_type": "stream",
     "text": [
      "**** The Numbers from 1 to 5 is ****\n",
      "1\n",
      "2\n",
      "3\n",
      "4\n",
      "5\n"
     ]
    }
   ],
   "source": [
    "i = 1\n",
    "print(\"**** The Numbers from 1 to 5 is ****\")\n",
    "while (i<=5):\n",
    "    print(i)\n",
    "    i = i+1    "
   ]
  },
  {
   "cell_type": "markdown",
   "id": "d1aa3645-031e-45b1-82d8-3c75b2649c46",
   "metadata": {},
   "source": [
    "#### 2. Calclate the sum of number from 1 to 10 using a while loop."
   ]
  },
  {
   "cell_type": "code",
   "execution_count": 8,
   "id": "a0d339d6-58fd-49c0-9126-d49ee5bdca00",
   "metadata": {},
   "outputs": [
    {
     "name": "stdout",
     "output_type": "stream",
     "text": [
      "Sum =  55\n"
     ]
    }
   ],
   "source": [
    "i = 1\n",
    "s = 0\n",
    "while (i<=10):\n",
    "    s = s + i\n",
    "    i = i+1\n",
    "print(\"Sum = \", s)"
   ]
  },
  {
   "cell_type": "markdown",
   "id": "ffff27a9-afed-4cd7-b53e-4544032eac2a",
   "metadata": {},
   "source": [
    "#### 3. Calclate the factorial of a number using a for loop."
   ]
  },
  {
   "cell_type": "code",
   "execution_count": 16,
   "id": "9e7ce77b-888c-4316-881f-93115a291c60",
   "metadata": {},
   "outputs": [
    {
     "name": "stdin",
     "output_type": "stream",
     "text": [
      "Enter a number to find the factorial 5\n"
     ]
    },
    {
     "name": "stdout",
     "output_type": "stream",
     "text": [
      "Factorial =  120\n"
     ]
    }
   ],
   "source": [
    "a = input (\"Enter a number to find the factorial\")  # Prompt the user to enter a number\n",
    "n = int(a)     # Convert the input string to an integer\n",
    "fact = 1       # Initialize the factorial result variable\n",
    "for i in range(1, n+1):   # Iterate from 1 through n (inclusive)\n",
    "    fact = fact * i       # Logic - Factorial (1*2*3*.....n)\n",
    "    i = i + 1\n",
    "\n",
    "print(\"Factorial = \", fact)  # Print the result"
   ]
  },
  {
   "cell_type": "markdown",
   "id": "ba525a7b-0e3d-408f-b429-48e2f72e5ab7",
   "metadata": {},
   "source": [
    "#### 4. Count the number of vowel in a string using a for loop."
   ]
  },
  {
   "cell_type": "code",
   "execution_count": 43,
   "id": "0f5b8194-8fd3-40b4-80b8-615e4feac1ff",
   "metadata": {},
   "outputs": [
    {
     "name": "stdin",
     "output_type": "stream",
     "text": [
      "Enter the string to count the vowels seena\n"
     ]
    },
    {
     "name": "stdout",
     "output_type": "stream",
     "text": [
      "count =  3\n"
     ]
    }
   ],
   "source": [
    "vowels = ['a','e','i','o','u','A','E','I','O','U']  # list containing vowels\n",
    "string = input(\"Enter the string to count the vowels\") # input the string\n",
    "count = 0 # initialize count variable \n",
    "\n",
    "for char in string: # use 'char' instead of 'i' for string characters\n",
    "    if char in vowels: # condition \n",
    "        count = count +1\n",
    "\n",
    "print(\"count = \", count)"
   ]
  },
  {
   "cell_type": "code",
   "execution_count": 53,
   "id": "175f618e-51d3-4826-909a-e8f586096da9",
   "metadata": {},
   "outputs": [
    {
     "name": "stdout",
     "output_type": "stream",
     "text": [
      "e\n",
      "e\n",
      "a\n",
      "count =  3\n"
     ]
    }
   ],
   "source": [
    "# Same logic implemented using a while loop.\n",
    "i = 0\n",
    "count =0\n",
    "s = len(string)   # length of the string\n",
    "while(i<s):\n",
    "    if string[i] in vowels:\n",
    "        print(string[i])\n",
    "        count = count +1\n",
    "    i = i+1\n",
    "print(\"count = \", count)"
   ]
  },
  {
   "cell_type": "markdown",
   "id": "d7ace7c8-53b8-4bc4-9d25-243092ee9d31",
   "metadata": {},
   "source": [
    "#### 5. Print a pattern using nested loop."
   ]
  },
  {
   "cell_type": "code",
   "execution_count": 67,
   "id": "85355af5-e163-4ffa-82f2-904c4b32ebb7",
   "metadata": {},
   "outputs": [
    {
     "name": "stdout",
     "output_type": "stream",
     "text": [
      "%  \n",
      "%  %  \n",
      "%  %  %  \n",
      "%  %  %  %  \n",
      "%  %  %  %  %  \n"
     ]
    }
   ],
   "source": [
    "# left-aligned triangle\n",
    "for i in range(5):          # Outer loop handles the number of rows\n",
    "    for j in range(i+1):    # Inner loop handles the number of columns, incrementing based on the current row\n",
    "        print(\"%\", end=\"  \")  # Print '%' and stay on the same line with two spaces\n",
    "    print()                 # After finishing each row's column prints, move to a new line"
   ]
  },
  {
   "cell_type": "code",
   "execution_count": 66,
   "id": "d4bc0a2b-c4e7-4313-a2b9-df1de0cc6b2d",
   "metadata": {},
   "outputs": [
    {
     "name": "stdout",
     "output_type": "stream",
     "text": [
      "            %  \n",
      "         %  %  \n",
      "      %  %  %  \n",
      "   %  %  %  %  \n",
      "%  %  %  %  %  \n"
     ]
    }
   ],
   "source": [
    "# Right-Aligned Triangle\n",
    "for i in range(5):\n",
    "    # Print spaces first\n",
    "    for space in range(5 - i - 1):\n",
    "        print(\"  \", end=\" \")\n",
    "    # Then print the '%' symbols\n",
    "    for j in range(i + 1):\n",
    "        print(\"%\", end=\"  \")\n",
    "    print()"
   ]
  },
  {
   "cell_type": "code",
   "execution_count": 63,
   "id": "56e6777b-72d2-4154-a767-12e54ca38897",
   "metadata": {},
   "outputs": [
    {
     "name": "stdout",
     "output_type": "stream",
     "text": [
      "%  %  %  %  %  \n",
      "%  %  %  %  \n",
      "%  %  %  \n",
      "%  %  \n",
      "%  \n"
     ]
    }
   ],
   "source": [
    "# Inverted left-aligned triangle\n",
    "for i in range(5, 0, -1):\n",
    "    for j in range(i):\n",
    "        print(\"%\", end=\"  \")\n",
    "    print()"
   ]
  },
  {
   "cell_type": "code",
   "execution_count": 68,
   "id": "42ef3636-0c3e-4910-990d-2a9f430eaa08",
   "metadata": {},
   "outputs": [
    {
     "name": "stdout",
     "output_type": "stream",
     "text": [
      "%  %  %  %  %  \n",
      "   %  %  %  %  \n",
      "      %  %  %  \n",
      "         %  %  \n",
      "            %  \n"
     ]
    }
   ],
   "source": [
    "# Inverted Right-Aligned Triangle\n",
    "for i in range(5, 0, -1):\n",
    "    for space in range(5 - i):\n",
    "        print(\"  \", end=\" \")\n",
    "    for j in range(i):\n",
    "        print(\"%\", end=\"  \")\n",
    "    print()\n"
   ]
  },
  {
   "cell_type": "code",
   "execution_count": 70,
   "id": "42ab5963-5c30-4394-802a-c5fa94ab11cf",
   "metadata": {},
   "outputs": [
    {
     "name": "stdout",
     "output_type": "stream",
     "text": [
      "        % \n",
      "      % % % \n",
      "    % % % % % \n",
      "  % % % % % % % \n",
      "% % % % % % % % % \n"
     ]
    }
   ],
   "source": [
    "# Center-Aligned Triangle (Pyramid)\n",
    "for i in range(5):\n",
    "    for space in range(5 - i - 1):\n",
    "        print(\" \", end=\" \")\n",
    "    for j in range(2 * i + 1):\n",
    "        print(\"%\", end=\" \")\n",
    "    print()\n"
   ]
  },
  {
   "cell_type": "markdown",
   "id": "61e49aa1-2b27-4616-afd4-ca8eea91002a",
   "metadata": {},
   "source": [
    "#### 6. Generate a mltiplication table using nested loop."
   ]
  },
  {
   "cell_type": "code",
   "execution_count": 82,
   "id": "e7b54dcf-5665-4c12-a145-b72026cb6f17",
   "metadata": {},
   "outputs": [
    {
     "name": "stdout",
     "output_type": "stream",
     "text": [
      "1 * 1 = 1\n",
      "1 * 2 = 2\n",
      "1 * 3 = 3\n",
      "1 * 4 = 4\n",
      "1 * 5 = 5\n",
      "1 * 6 = 6\n",
      "1 * 7 = 7\n",
      "1 * 8 = 8\n",
      "1 * 9 = 9\n",
      "1 * 10 = 10\n",
      "\n",
      "2 * 1 = 2\n",
      "2 * 2 = 4\n",
      "2 * 3 = 6\n",
      "2 * 4 = 8\n",
      "2 * 5 = 10\n",
      "2 * 6 = 12\n",
      "2 * 7 = 14\n",
      "2 * 8 = 16\n",
      "2 * 9 = 18\n",
      "2 * 10 = 20\n",
      "\n",
      "3 * 1 = 3\n",
      "3 * 2 = 6\n",
      "3 * 3 = 9\n",
      "3 * 4 = 12\n",
      "3 * 5 = 15\n",
      "3 * 6 = 18\n",
      "3 * 7 = 21\n",
      "3 * 8 = 24\n",
      "3 * 9 = 27\n",
      "3 * 10 = 30\n",
      "\n",
      "4 * 1 = 4\n",
      "4 * 2 = 8\n",
      "4 * 3 = 12\n",
      "4 * 4 = 16\n",
      "4 * 5 = 20\n",
      "4 * 6 = 24\n",
      "4 * 7 = 28\n",
      "4 * 8 = 32\n",
      "4 * 9 = 36\n",
      "4 * 10 = 40\n",
      "\n",
      "5 * 1 = 5\n",
      "5 * 2 = 10\n",
      "5 * 3 = 15\n",
      "5 * 4 = 20\n",
      "5 * 5 = 25\n",
      "5 * 6 = 30\n",
      "5 * 7 = 35\n",
      "5 * 8 = 40\n",
      "5 * 9 = 45\n",
      "5 * 10 = 50\n",
      "\n",
      "6 * 1 = 6\n",
      "6 * 2 = 12\n",
      "6 * 3 = 18\n",
      "6 * 4 = 24\n",
      "6 * 5 = 30\n",
      "6 * 6 = 36\n",
      "6 * 7 = 42\n",
      "6 * 8 = 48\n",
      "6 * 9 = 54\n",
      "6 * 10 = 60\n",
      "\n",
      "7 * 1 = 7\n",
      "7 * 2 = 14\n",
      "7 * 3 = 21\n",
      "7 * 4 = 28\n",
      "7 * 5 = 35\n",
      "7 * 6 = 42\n",
      "7 * 7 = 49\n",
      "7 * 8 = 56\n",
      "7 * 9 = 63\n",
      "7 * 10 = 70\n",
      "\n",
      "8 * 1 = 8\n",
      "8 * 2 = 16\n",
      "8 * 3 = 24\n",
      "8 * 4 = 32\n",
      "8 * 5 = 40\n",
      "8 * 6 = 48\n",
      "8 * 7 = 56\n",
      "8 * 8 = 64\n",
      "8 * 9 = 72\n",
      "8 * 10 = 80\n",
      "\n",
      "9 * 1 = 9\n",
      "9 * 2 = 18\n",
      "9 * 3 = 27\n",
      "9 * 4 = 36\n",
      "9 * 5 = 45\n",
      "9 * 6 = 54\n",
      "9 * 7 = 63\n",
      "9 * 8 = 72\n",
      "9 * 9 = 81\n",
      "9 * 10 = 90\n",
      "\n",
      "10 * 1 = 10\n",
      "10 * 2 = 20\n",
      "10 * 3 = 30\n",
      "10 * 4 = 40\n",
      "10 * 5 = 50\n",
      "10 * 6 = 60\n",
      "10 * 7 = 70\n",
      "10 * 8 = 80\n",
      "10 * 9 = 90\n",
      "10 * 10 = 100\n",
      "\n"
     ]
    }
   ],
   "source": [
    "for i in range(1, 11):                # Outer loop: Iterate over the values from 1 to 10\n",
    "    for j in range(1, 11):            # Inner loop: Iterate over the values from 1 to 10\n",
    "        mul = i * j                   # Calculate the multiplication result\n",
    "        print(f\"{i} * {j} = {mul}\")   # Print the formatted multiplication result\n",
    "    print()"
   ]
  },
  {
   "cell_type": "code",
   "execution_count": 76,
   "id": "520256bb-7a56-4a2f-ae43-75c8882414bc",
   "metadata": {},
   "outputs": [
    {
     "name": "stdout",
     "output_type": "stream",
     "text": [
      "1 * 1 = 1\n",
      "1 * 2 = 2\n",
      "1 * 3 = 3\n",
      "1 * 4 = 4\n",
      "1 * 5 = 5\n",
      "1 * 6 = 6\n",
      "1 * 7 = 7\n",
      "1 * 8 = 8\n",
      "1 * 9 = 9\n",
      "1 * 10 = 10\n",
      "\n",
      "2 * 1 = 2\n",
      "2 * 2 = 4\n",
      "2 * 3 = 6\n",
      "2 * 4 = 8\n",
      "2 * 5 = 10\n",
      "2 * 6 = 12\n",
      "2 * 7 = 14\n",
      "2 * 8 = 16\n",
      "2 * 9 = 18\n",
      "2 * 10 = 20\n",
      "\n",
      "3 * 1 = 3\n",
      "3 * 2 = 6\n",
      "3 * 3 = 9\n",
      "3 * 4 = 12\n",
      "3 * 5 = 15\n",
      "3 * 6 = 18\n",
      "3 * 7 = 21\n",
      "3 * 8 = 24\n",
      "3 * 9 = 27\n",
      "3 * 10 = 30\n",
      "\n",
      "4 * 1 = 4\n",
      "4 * 2 = 8\n",
      "4 * 3 = 12\n",
      "4 * 4 = 16\n",
      "4 * 5 = 20\n",
      "4 * 6 = 24\n",
      "4 * 7 = 28\n",
      "4 * 8 = 32\n",
      "4 * 9 = 36\n",
      "4 * 10 = 40\n",
      "\n",
      "5 * 1 = 5\n",
      "5 * 2 = 10\n",
      "5 * 3 = 15\n",
      "5 * 4 = 20\n",
      "5 * 5 = 25\n",
      "5 * 6 = 30\n",
      "5 * 7 = 35\n",
      "5 * 8 = 40\n",
      "5 * 9 = 45\n",
      "5 * 10 = 50\n",
      "\n",
      "6 * 1 = 6\n",
      "6 * 2 = 12\n",
      "6 * 3 = 18\n",
      "6 * 4 = 24\n",
      "6 * 5 = 30\n",
      "6 * 6 = 36\n",
      "6 * 7 = 42\n",
      "6 * 8 = 48\n",
      "6 * 9 = 54\n",
      "6 * 10 = 60\n",
      "\n",
      "7 * 1 = 7\n",
      "7 * 2 = 14\n",
      "7 * 3 = 21\n",
      "7 * 4 = 28\n",
      "7 * 5 = 35\n",
      "7 * 6 = 42\n",
      "7 * 7 = 49\n",
      "7 * 8 = 56\n",
      "7 * 9 = 63\n",
      "7 * 10 = 70\n",
      "\n",
      "8 * 1 = 8\n",
      "8 * 2 = 16\n",
      "8 * 3 = 24\n",
      "8 * 4 = 32\n",
      "8 * 5 = 40\n",
      "8 * 6 = 48\n",
      "8 * 7 = 56\n",
      "8 * 8 = 64\n",
      "8 * 9 = 72\n",
      "8 * 10 = 80\n",
      "\n",
      "9 * 1 = 9\n",
      "9 * 2 = 18\n",
      "9 * 3 = 27\n",
      "9 * 4 = 36\n",
      "9 * 5 = 45\n",
      "9 * 6 = 54\n",
      "9 * 7 = 63\n",
      "9 * 8 = 72\n",
      "9 * 9 = 81\n",
      "9 * 10 = 90\n",
      "\n",
      "10 * 1 = 10\n",
      "10 * 2 = 20\n",
      "10 * 3 = 30\n",
      "10 * 4 = 40\n",
      "10 * 5 = 50\n",
      "10 * 6 = 60\n",
      "10 * 7 = 70\n",
      "10 * 8 = 80\n",
      "10 * 9 = 90\n",
      "10 * 10 = 100\n",
      "\n"
     ]
    }
   ],
   "source": [
    "# Outer loop: Iterate over the values from 1 to 10\n",
    "for i in range(1, 11):\n",
    "    # Inner loop: Iterate over the values from 1 to 10\n",
    "    for j in range(1, 11):\n",
    "        # Calculate the multiplication result\n",
    "        mul = i * j\n",
    "        # Print the formatted multiplication result\n",
    "        print(f\"{i} * {j} = {mul}\")\n",
    "    # Print a blank line to separate tables\n",
    "    print()\n"
   ]
  },
  {
   "cell_type": "code",
   "execution_count": null,
   "id": "d77825c5-9e46-4131-9eb6-3b90472d10fd",
   "metadata": {},
   "outputs": [],
   "source": []
  }
 ],
 "metadata": {
  "kernelspec": {
   "display_name": "Python 3 (ipykernel)",
   "language": "python",
   "name": "python3"
  },
  "language_info": {
   "codemirror_mode": {
    "name": "ipython",
    "version": 3
   },
   "file_extension": ".py",
   "mimetype": "text/x-python",
   "name": "python",
   "nbconvert_exporter": "python",
   "pygments_lexer": "ipython3",
   "version": "3.11.7"
  }
 },
 "nbformat": 4,
 "nbformat_minor": 5
}
